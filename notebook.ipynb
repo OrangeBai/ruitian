{
 "cells": [
  {
   "cell_type": "code",
   "execution_count": 1,
   "metadata": {
    "pycharm": {
     "name": "#%%\n"
    }
   },
   "outputs": [],
   "source": [
    "import wandb\n",
    "import numpy as np\n",
    "from matplotlib import pyplot as plt\n",
    "plt.style.use('ggplot')"
   ]
  },
  {
   "cell_type": "code",
   "execution_count": 2,
   "metadata": {
    "pycharm": {
     "name": "#%%\n"
    }
   },
   "outputs": [],
   "source": [
    "# restore runs\n",
    "api = wandb.Api()\n",
    "run_id = api.project('Ruitian')\n",
    "runs = api.runs('orangebai/Ruitian')"
   ]
  },
  {
   "cell_type": "code",
   "execution_count": null,
   "outputs": [],
   "source": [
    "fig, ax = plt.subplots(figsize=(16, 9))\n",
    "# plot val result\n",
    "for run in runs:\n",
    "    if run.state != 'crashed':\n",
    "        history = run.history()\n",
    "        valid = history[~history.isna().loc[:, 'val/loss']]\n",
    "        ax.plot(valid.loc[:, 'epoch'], np.log(valid.loc[:, 'val/loss']), linewidth=2, label=run.name)\n",
    "plt.legend(fontsize=24)\n",
    "ax.set_ylabel('VAL -MSE', fontsize=24)\n",
    "ax.set_xlabel('Epoch', fontsize=24)\n",
    "ax.tick_params(axis='x', labelsize=18)\n",
    "ax.tick_params(axis='y', labelsize=18)\n",
    "plt.show()"
   ],
   "metadata": {
    "collapsed": false,
    "pycharm": {
     "name": "#%%\n"
    }
   }
  },
  {
   "cell_type": "code",
   "execution_count": null,
   "outputs": [],
   "source": [
    "fig, ax = plt.subplots(figsize=(16, 9))\n",
    "# plot trainer result\n",
    "for run in runs:\n",
    "    if run.state != 'crashed':\n",
    "        history = run.history()\n",
    "        valid = history[~history.isna().loc[:, 'train/loss']]\n",
    "        ax.plot(valid.loc[:, 'epoch'], np.log(valid.loc[:, 'train/loss']), linewidth=2, label=run.name)\n",
    "plt.legend(fontsize=24)\n",
    "ax.set_ylabel('VAL - MSE', fontsize=24)\n",
    "ax.set_xlabel('Epoch', fontsize=24)\n",
    "ax.tick_params(axis='x', labelsize=18)\n",
    "ax.tick_params(axis='y', labelsize=18)\n",
    "plt.show()"
   ],
   "metadata": {
    "collapsed": false,
    "pycharm": {
     "name": "#%%\n"
    }
   }
  },
  {
   "cell_type": "code",
   "execution_count": null,
   "outputs": [],
   "source": [],
   "metadata": {
    "collapsed": false,
    "pycharm": {
     "name": "#%%\n"
    }
   }
  },
  {
   "cell_type": "code",
   "execution_count": null,
   "metadata": {},
   "outputs": [],
   "source": []
  },
  {
   "cell_type": "code",
   "execution_count": null,
   "metadata": {},
   "outputs": [],
   "source": []
  }
 ],
 "metadata": {
  "kernelspec": {
   "display_name": "pytorch",
   "language": "python",
   "name": "pytorch"
  },
  "language_info": {
   "codemirror_mode": {
    "name": "ipython",
    "version": 3
   },
   "file_extension": ".py",
   "mimetype": "text/x-python",
   "name": "python",
   "nbconvert_exporter": "python",
   "pygments_lexer": "ipython3",
   "version": "3.8.13"
  }
 },
 "nbformat": 4,
 "nbformat_minor": 1
}